{
 "cells": [
  {
   "cell_type": "code",
   "execution_count": null,
   "id": "b038d9bc",
   "metadata": {},
   "outputs": [],
   "source": [
    "from dotenv import load_dotenv\n",
    "\n",
    "load_dotenv(override=True)"
   ]
  },
  {
   "cell_type": "code",
   "execution_count": null,
   "id": "e3322026",
   "metadata": {},
   "outputs": [],
   "source": [
    "from smarttables import build_client\n",
    "from main import export_match_stats\n",
    "\n",
    "client = build_client()"
   ]
  },
  {
   "cell_type": "code",
   "execution_count": null,
   "id": "c5ed37ce",
   "metadata": {},
   "outputs": [],
   "source": [
    "export_match_stats(client, 461102)"
   ]
  }
 ],
 "metadata": {
  "kernelspec": {
   "display_name": "venv",
   "language": "python",
   "name": "python3"
  },
  "language_info": {
   "codemirror_mode": {
    "name": "ipython",
    "version": 3
   },
   "file_extension": ".py",
   "mimetype": "text/x-python",
   "name": "python",
   "nbconvert_exporter": "python",
   "pygments_lexer": "ipython3",
   "version": "3.12.10"
  }
 },
 "nbformat": 4,
 "nbformat_minor": 5
}
